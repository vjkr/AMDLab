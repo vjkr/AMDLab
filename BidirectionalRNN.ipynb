{
  "nbformat": 4,
  "nbformat_minor": 0,
  "metadata": {
    "colab": {
      "provenance": [],
      "authorship_tag": "ABX9TyOinIW33J4xgsM4L1VZXKQj",
      "include_colab_link": true
    },
    "kernelspec": {
      "name": "python3",
      "display_name": "Python 3"
    },
    "language_info": {
      "name": "python"
    }
  },
  "cells": [
    {
      "cell_type": "markdown",
      "metadata": {
        "id": "view-in-github",
        "colab_type": "text"
      },
      "source": [
        "<a href=\"https://colab.research.google.com/github/vjkr/AMDLab/blob/main/BidirectionalRNN.ipynb\" target=\"_parent\"><img src=\"https://colab.research.google.com/assets/colab-badge.svg\" alt=\"Open In Colab\"/></a>"
      ]
    },
    {
      "cell_type": "code",
      "execution_count": 5,
      "metadata": {
        "colab": {
          "base_uri": "https://localhost:8080/"
        },
        "id": "Dei8xcSBROAa",
        "outputId": "39200a13-2060-4c3c-943f-a98cd8472cc4"
      },
      "outputs": [
        {
          "output_type": "stream",
          "name": "stdout",
          "text": [
            "[\"[Alice's Adventures in Wonderland by Lewis Carroll 1865]\\n\\nCHAPTER I\", \" Down the Rabbit-Hole\\n\\nAlice was beginning to get very tired of sitting by her sister on the\\nbank, and of having nothing to do: once or twice she had peeped into the\\nbook her sister was reading, but it had no pictures or conversations in\\nit, 'and what is the use of a book,' thought Alice 'without pictures or\\nconversation?'\\n\\nSo she was considering in her own mind (as well as she could, for the\\nhot day made her feel very sleepy and stupid), whether the pleasure\\nof making a daisy-chain would be worth the trouble of getting up and\\npicking the daisies, when suddenly a White Rabbit with pink eyes ran\\nclose by her\", \"\\n\\nThere was nothing so VERY remarkable in that; nor did Alice think it so\\nVERY much out of the way to hear the Rabbit say to itself, 'Oh dear!\\nOh dear! I shall be late!' (when she thought it over afterwards, it\\noccurred to her that she ought to have wondered at this, but at the time\\nit all seemed quite natural); but when the Rabbit actually TOOK A WATCH\\nOUT OF ITS WAISTCOAT-POCKET, and looked at it, and then hurried on,\\nAlice started to her feet, for it flashed across her mind that she had\\nnever before seen a rabbit with either a waistcoat-pocket, or a watch\\nto take out of it, and burning with curiosity, she ran across the field\\nafter it, and fortunately was just in time to see it pop down a large\\nrabbit-hole under the hedge\", '\\n\\nIn another moment down went Alice after it, never once considering how\\nin the world she was to get out again', '\\n\\nThe rabbit-hole went straight on like a tunnel for some way, and then\\ndipped suddenly down, so suddenly that Alice had not a moment to think\\nabout stopping herself before she found herself falling down a very deep\\nwell']\n"
          ]
        },
        {
          "output_type": "stream",
          "name": "stderr",
          "text": [
            "[nltk_data] Downloading package gutenberg to /root/nltk_data...\n",
            "[nltk_data]   Package gutenberg is already up-to-date!\n"
          ]
        }
      ],
      "source": [
        "import numpy as np\n",
        "import tensorflow as tf\n",
        "from tensorflow.keras.models import Sequential\n",
        "from tensorflow.keras.layers import Embedding, LSTM, Bidirectional, Dense\n",
        "from tensorflow.keras.preprocessing.text import Tokenizer\n",
        "from tensorflow.keras.preprocessing.sequence import pad_sequences\n",
        "# Sample dataset\n",
        "import nltk\n",
        "from nltk.corpus import gutenberg\n",
        "nltk.download('gutenberg')\n",
        "# Load text from a book (e.g., Alice in Wonderland)\n",
        "text_data = gutenberg.raw(\"carroll-alice.txt\")  # Loads full book as a string\n",
        "newtext = text_data.split(\".\")\n",
        "print(newtext[:5])\n",
        "\n",
        "text = [\n",
        "    \"The sun rises in the east every morning\",\n",
        "    \"The ocean waves crash gently on the shore\",\n",
        "    \"Birds chirp loudly in the early morning light\",\n",
        "    \"The mountains are covered in white snow\",\n",
        "    \"The computer screen displays a new message\",\n",
        "    \"The robot moves smoothly across the floor\",\n",
        "    \"The astronaut explores the surface of the moon\",\n",
        "    \"The musician plays a beautiful melody on the piano\"\n",
        "]"
      ]
    },
    {
      "cell_type": "code",
      "source": [
        "# Tokenize words\n",
        "tokenizer = Tokenizer()\n",
        "tokenizer.fit_on_texts(newtext)\n",
        "sequences = tokenizer.texts_to_sequences(text)\n",
        "# Prepare training data\n",
        "X = [seq[:-1] for seq in sequences]\n",
        "y = [seq[-1] for seq in sequences]\n",
        "X_padded = pad_sequences(X, padding='pre')\n",
        "y = np.array(y)\n",
        "# Define model\n",
        "model = Sequential([\n",
        "Embedding(input_dim=len(tokenizer.word_index) + 1, output_dim=10),\n",
        "Bidirectional(LSTM(10)),\n",
        "Dense(len(tokenizer.word_index) + 1, activation='softmax')])\n",
        "# Compile and train\n",
        "model.compile(loss=\"sparse_categorical_crossentropy\", optimizer=\"adam\", metrics=[\"accuracy\"])\n",
        "model.fit(X_padded, y, epochs=50, verbose=0)\n",
        "# Predict next word\n",
        "test_sequence = tokenizer.texts_to_sequences([\"The books are\"])[0]\n",
        "test_padded = pad_sequences([test_sequence], maxlen=X_padded.shape[1], padding='pre')\n",
        "predicted_index = np.argmax(model.predict(test_padded))\n",
        "predicted_word = tokenizer.index_word.get(predicted_index, \"Unknown\")\n",
        "print(f\"Predicted Next Word: {predicted_word}\")"
      ],
      "metadata": {
        "colab": {
          "base_uri": "https://localhost:8080/"
        },
        "id": "e092Sbq9Rj1h",
        "outputId": "e21da878-8d6e-4033-a7f8-7478ce0fb265"
      },
      "execution_count": 7,
      "outputs": [
        {
          "output_type": "stream",
          "name": "stdout",
          "text": [
            "\u001b[1m1/1\u001b[0m \u001b[32m━━━━━━━━━━━━━━━━━━━━\u001b[0m\u001b[37m\u001b[0m \u001b[1m0s\u001b[0m 343ms/step\n",
            "Predicted Next Word: moon\n"
          ]
        }
      ]
    },
    {
      "cell_type": "code",
      "source": [],
      "metadata": {
        "id": "cyUTUctLSTqT"
      },
      "execution_count": null,
      "outputs": []
    }
  ]
}