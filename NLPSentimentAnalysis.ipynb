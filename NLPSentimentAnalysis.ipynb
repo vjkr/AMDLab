{
  "nbformat": 4,
  "nbformat_minor": 0,
  "metadata": {
    "colab": {
      "provenance": [],
      "authorship_tag": "ABX9TyNqrNXQ+dqBHamustMnwgCA",
      "include_colab_link": true
    },
    "kernelspec": {
      "name": "python3",
      "display_name": "Python 3"
    },
    "language_info": {
      "name": "python"
    }
  },
  "cells": [
    {
      "cell_type": "markdown",
      "metadata": {
        "id": "view-in-github",
        "colab_type": "text"
      },
      "source": [
        "<a href=\"https://colab.research.google.com/github/vjkr/AMDLab/blob/main/NLPSentimentAnalysis.ipynb\" target=\"_parent\"><img src=\"https://colab.research.google.com/assets/colab-badge.svg\" alt=\"Open In Colab\"/></a>"
      ]
    },
    {
      "cell_type": "code",
      "execution_count": 1,
      "metadata": {
        "colab": {
          "base_uri": "https://localhost:8080/"
        },
        "id": "GYnaGKLoTYoE",
        "outputId": "8b631e4e-b9de-47e1-ebab-1aa5e2c33e55"
      },
      "outputs": [
        {
          "output_type": "stream",
          "name": "stdout",
          "text": [
            "Review: This movie was fantastic! I loved it.\n",
            "Sentiment: Positive\n",
            "\n"
          ]
        },
        {
          "output_type": "stream",
          "name": "stderr",
          "text": [
            "[nltk_data] Downloading package vader_lexicon to /root/nltk_data...\n"
          ]
        }
      ],
      "source": [
        "import nltk\n",
        "from nltk.sentiment import SentimentIntensityAnalyzer\n",
        "# Download VADER (first-time use)\n",
        "nltk.download('vader_lexicon')\n",
        "# Initialize Sentiment Analyzer\n",
        "sia = SentimentIntensityAnalyzer()\n",
        "# Sample reviews\n",
        "reviews = [\n",
        "\n",
        "\"The film was horrible and a waste of time.\",\n",
        "\"An average movie, not bad but not great.\",\n",
        "\"The cinematography was stunning, but the story was dull.\",\n",
        "\"This movie was fantastic! I loved it.\"\n",
        "]\n",
        "# Analyze sentiment\n",
        "for review in reviews:\n",
        "  sentiment_score = sia.polarity_scores(review)\n",
        "  sentiment = \"Positive\" if sentiment_score[\"compound\"] > 0 else \"Negative\"\n",
        "print(f\"Review: {review}\\nSentiment: {sentiment}\\n\")"
      ]
    },
    {
      "cell_type": "code",
      "source": [],
      "metadata": {
        "id": "q258v4fQTcwc"
      },
      "execution_count": null,
      "outputs": []
    }
  ]
}